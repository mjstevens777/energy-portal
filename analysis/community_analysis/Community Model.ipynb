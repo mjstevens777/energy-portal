{
 "cells": [
  {
   "cell_type": "code",
   "execution_count": 1,
   "metadata": {
    "collapsed": true
   },
   "outputs": [],
   "source": [
    "import pandas as pd\n",
    "import matplotlib.pyplot as plt\n",
    "%matplotlib inline\n",
    "import numpy as np\n",
    "\n",
    "household = pd.read_csv(\"../../models/household_complete_one_hot.csv\")\n",
    "pums = pd.read_csv(\"../../models/joined_weather.csv\")"
   ]
  },
  {
   "cell_type": "code",
   "execution_count": 3,
   "metadata": {
    "collapsed": false
   },
   "outputs": [],
   "source": [
    "pums_sample = pums.sample(30000)\n",
    "# pums_sample.to_csv(\"pums_sample.csv\", index=False)"
   ]
  },
  {
   "cell_type": "code",
   "execution_count": 4,
   "metadata": {
    "collapsed": true
   },
   "outputs": [],
   "source": [
    "# pums_sample = pd.read_csv(\"pums_sample.csv\")"
   ]
  },
  {
   "cell_type": "code",
   "execution_count": 124,
   "metadata": {
    "collapsed": false
   },
   "outputs": [],
   "source": [
    "join_columns = list(set(household.columns) & set(pums_sample.columns))\n",
    "join_columns.remove('ELEP')"
   ]
  },
  {
   "cell_type": "code",
   "execution_count": 125,
   "metadata": {
    "collapsed": false
   },
   "outputs": [],
   "source": [
    "from sklearn.preprocessing import RobustScaler\n",
    "\n",
    "X = household.dropna()[join_columns]\n",
    "X_gen = pums_sample.dropna()[join_columns]\n",
    "\n",
    "scaler = RobustScaler()\n",
    "scaler.fit(X)\n",
    "\n",
    "X = scaler.transform(X)\n",
    "X_gen = scaler.transform(X_gen)\n",
    "\n",
    "y = household[['KWH']].as_matrix().flatten()\n",
    "y = np.log(y)"
   ]
  },
  {
   "cell_type": "code",
   "execution_count": 126,
   "metadata": {
    "collapsed": false
   },
   "outputs": [],
   "source": [
    "from sklearn.cross_validation import train_test_split\n",
    "X_train, X_test, y_train, y_test = train_test_split(X, y)"
   ]
  },
  {
   "cell_type": "code",
   "execution_count": 127,
   "metadata": {
    "collapsed": false
   },
   "outputs": [],
   "source": [
    "# from sklearn.neighbors import KNeighborsRegressor\n",
    "\n",
    "# nn = KNeighborsRegressor()\n",
    "# nn.fit(X_train, y_train)\n",
    "# y_pred = nn.predict(X_test)"
   ]
  },
  {
   "cell_type": "code",
   "execution_count": 128,
   "metadata": {
    "collapsed": true
   },
   "outputs": [],
   "source": [
    "# from sklearn.linear_model import LinearRegression\n",
    "\n",
    "# lr = LinearRegression()\n",
    "# lr.fit(X_train, y_train)\n",
    "# y_pred = lr.predict(X_test)"
   ]
  },
  {
   "cell_type": "code",
   "execution_count": 129,
   "metadata": {
    "collapsed": true
   },
   "outputs": [],
   "source": [
    "from sklearn.ensemble import RandomForestRegressor\n",
    "\n",
    "rf = RandomForestRegressor(n_estimators=50)\n",
    "rf.fit(X_train, y_train)\n",
    "y_pred = rf.predict(X_test)"
   ]
  },
  {
   "cell_type": "code",
   "execution_count": 130,
   "metadata": {
    "collapsed": false
   },
   "outputs": [
    {
     "name": "stdout",
     "output_type": "stream",
     "text": [
      "('R^2', 0.56613072440221202)\n"
     ]
    }
   ],
   "source": [
    "from sklearn.metrics import r2_score\n",
    "\n",
    "print(\"R^2\", r2_score(y_test, y_pred))"
   ]
  },
  {
   "cell_type": "code",
   "execution_count": 131,
   "metadata": {
    "collapsed": false
   },
   "outputs": [
    {
     "data": {
      "text/plain": [
       "<matplotlib.legend.Legend at 0x7f8e40e83f10>"
      ]
     },
     "execution_count": 131,
     "metadata": {},
     "output_type": "execute_result"
    },
    {
     "data": {
      "image/png": "[encoded data removed]",
      "text/plain": [
       "<matplotlib.figure.Figure at 0x7f8e40f24350>"
      ]
     },
     "metadata": {},
     "output_type": "display_data"
    }
   ],
   "source": [
    "plt.hist([y_pred, y_test], bins=30, normed=True)\n",
    "plt.legend(['NN', 'Data'])"
   ]
  },
  {
   "cell_type": "code",
   "execution_count": 132,
   "metadata": {
    "collapsed": false
   },
   "outputs": [],
   "source": [
    "# y_pred = nn.predict(X_gen)"
   ]
  },
  {
   "cell_type": "code",
   "execution_count": 133,
   "metadata": {
    "collapsed": true
   },
   "outputs": [],
   "source": [
    "# y_pred = lr.predict(X_gen)"
   ]
  },
  {
   "cell_type": "code",
   "execution_count": 134,
   "metadata": {
    "collapsed": true
   },
   "outputs": [],
   "source": [
    "y_pred = rf.predict(X_gen)"
   ]
  },
  {
   "cell_type": "code",
   "execution_count": 135,
   "metadata": {
    "collapsed": false
   },
   "outputs": [
    {
     "name": "stdout",
     "output_type": "stream",
     "text": [
      "0.0610356256168\n"
     ]
    }
   ],
   "source": [
    "_, bins = np.histogram(np.concatenate([y_pred, y_test]), bins='auto')\n",
    "h1, _ = np.histogram(y_pred, bins=bins)\n",
    "h2, _ = np.histogram(y_test, bins=bins)\n",
    "\n",
    "from scipy.stats import entropy\n",
    "from numpy.linalg import norm\n",
    "import numpy as np\n",
    "\n",
    "def JSD(P, Q):\n",
    "    _P = P / norm(P, ord=1)\n",
    "    _Q = Q / norm(Q, ord=1)\n",
    "    _M = 0.5 * (_P + _Q)\n",
    "    return 0.5 * (entropy(_P, _M) + entropy(_Q, _M))\n",
    "\n",
    "print(JSD(h1, h2))"
   ]
  },
  {
   "cell_type": "code",
   "execution_count": 136,
   "metadata": {
    "collapsed": false
   },
   "outputs": [
    {
     "data": {
      "text/plain": [
       "<matplotlib.legend.Legend at 0x7f8e40c3f390>"
      ]
     },
     "execution_count": 136,
     "metadata": {},
     "output_type": "execute_result"
    },
    {
     "data": {
      "image/png": "[encoded data removed]",
      "text/plain": [
       "<matplotlib.figure.Figure at 0x7f8e41073ed0>"
      ]
     },
     "metadata": {},
     "output_type": "display_data"
    }
   ],
   "source": [
    "plt.hist([y_pred, y_test], bins=30, normed=True)\n",
    "plt.legend(['NN', 'Data'])"
   ]
  },
  {
   "cell_type": "code",
   "execution_count": 137,
   "metadata": {
    "collapsed": false
   },
   "outputs": [
    {
     "data": {
      "text/plain": [
       "array([ 7.5,  0. , -1. , -0.5,  0. ,  0. ,  0. ,  3.5,  3. ,  0. ])"
      ]
     },
     "execution_count": 137,
     "metadata": {},
     "output_type": "execute_result"
    }
   ],
   "source": [
    "X_gen[y_pred < 7, 11]"
   ]
  },
  {
   "cell_type": "code",
   "execution_count": 139,
   "metadata": {
    "collapsed": false
   },
   "outputs": [
    {
     "name": "stdout",
     "output_type": "stream",
     "text": [
      "(0, 91870)\n",
      "(100000, 92397)\n",
      "(200000, 92465)\n",
      "(300000, 92423)\n",
      "(400000, 92475)\n",
      "(500000, 92199)\n",
      "(600000, 92588)\n",
      "(700000, 93173)\n",
      "(800000, 92100)\n",
      "(900000, 91485)\n",
      "(1000000, 92366)\n",
      "(1100000, 91484)\n",
      "(1200000, 91831)\n",
      "(1300000, 92463)\n",
      "(1400000, 92374)\n",
      "(1500000, 91262)\n",
      "(1600000, 91942)\n",
      "(1700000, 92413)\n",
      "(1800000, 93353)\n",
      "(1900000, 91642)\n",
      "(2000000, 91691)\n",
      "(2100000, 92069)\n",
      "(2200000, 91364)\n",
      "(2300000, 91251)\n",
      "(2400000, 91706)\n",
      "(2500000, 92242)\n",
      "(2600000, 92365)\n",
      "(2700000, 92163)\n",
      "(2800000, 91765)\n",
      "(2900000, 92355)\n",
      "(3000000, 91632)\n",
      "(3100000, 59439)\n"
     ]
    }
   ],
   "source": [
    "from collections import defaultdict\n",
    "puma_to_kwh = defaultdict(list)\n",
    "\n",
    "step = 100000\n",
    "\n",
    "for i in range(0, len(pums), step):\n",
    "    block = pums[i:i+step].dropna()\n",
    "    print(i, len(block))\n",
    "    X = block[join_columns].fillna(-1).as_matrix()\n",
    "    X = scaler.transform(X)\n",
    "    y = rf.predict(X)\n",
    "    for puma_id, weight, val in zip(block.PUMA, block.WGTP, y):\n",
    "        puma_to_kwh[puma_id].append((weight, val))"
   ]
  },
  {
   "cell_type": "code",
   "execution_count": 140,
   "metadata": {
    "collapsed": true
   },
   "outputs": [],
   "source": [
    "import json\n",
    "with open('../../models/vectorized_puma_regions/puma_list.json') as f:\n",
    "    puma_mapping = json.load(f)\n",
    "    puma_mapping = dict((int(value), int(key)) for key, value in puma_mapping.items())"
   ]
  },
  {
   "cell_type": "code",
   "execution_count": 141,
   "metadata": {
    "collapsed": true
   },
   "outputs": [],
   "source": [
    "def weighted_mean_std(x, weights):\n",
    "    prob = weights / np.sum(weights)\n",
    "    mean = np.sum(x * prob)\n",
    "    dx = x - mean\n",
    "    var = np.sum(prob * np.power(dx, 2))\n",
    "    std = np.sqrt(var)\n",
    "    return mean, std"
   ]
  },
  {
   "cell_type": "code",
   "execution_count": 142,
   "metadata": {
    "collapsed": false
   },
   "outputs": [],
   "source": [
    "results = []\n",
    "for key, values in puma_to_kwh.items():\n",
    "    weights = [w for w, v in values]\n",
    "    values = [v for w, v in values]\n",
    "    mean, std = weighted_mean_std(values, weights)\n",
    "    results.append((puma_mapping[key], mean, std))\n",
    "results = pd.DataFrame(results, columns=[\"PUMA\", \"elec_mean\", \"elec_std\"])"
   ]
  },
  {
   "cell_type": "code",
   "execution_count": 143,
   "metadata": {
    "collapsed": false
   },
   "outputs": [
    {
     "data": {
      "image/png": "[encoded data removed]",
      "text/plain": [
       "<matplotlib.figure.Figure at 0x7f8e40a79410>"
      ]
     },
     "metadata": {},
     "output_type": "display_data"
    }
   ],
   "source": [
    "# Inspect a random histogram\n",
    "for key, values in puma_to_kwh.items():\n",
    "    weights = [w for w, v in values]\n",
    "    values = [v for w, v in values]\n",
    "    if np.random.rand() < 0.01:\n",
    "        plt.hist([values, y], normed=True, bins=30)\n",
    "        break"
   ]
  },
  {
   "cell_type": "code",
   "execution_count": 144,
   "metadata": {
    "collapsed": false
   },
   "outputs": [],
   "source": [
    "results.to_csv(\"community_distributions.csv\", index=False)"
   ]
  },
  {
   "cell_type": "code",
   "execution_count": 146,
   "metadata": {
    "collapsed": false
   },
   "outputs": [
    {
     "data": {
      "text/plain": [
       "9.5000990646581229"
      ]
     },
     "execution_count": 146,
     "metadata": {},
     "output_type": "execute_result"
    }
   ],
   "source": [
    "np.percentile(results.elec_mean, 95)"
   ]
  },
  {
   "cell_type": "code",
   "execution_count": null,
   "metadata": {
    "collapsed": true
   },
   "outputs": [],
   "source": [
    "# diffs = []\n",
    "# for column in join_columns:\n",
    "#     p_col = pums_sample[[column]].fillna(-1).as_matrix().flatten()\n",
    "#     h_col = household[[column]].fillna(-1).as_matrix().flatten()\n",
    "#     both = np.concatenate((p_col, h_col))\n",
    "#     _, bins = np.histogram(both, bins='auto')\n",
    "#     if len(bins) >= np.max(both) - np.min(both) - 1:\n",
    "#         _, bins = np.histogram(both, bins=int(np.max(both) - np.min(both)))\n",
    "#     if len(bins) <= 3:\n",
    "#         _, bins = np.histogram(both, bins=2)\n",
    "#     if len(bins) >= 100:\n",
    "#         _, bins = np.histogram(both, bins=100)\n",
    "        \n",
    "#     hist_p, _ = np.histogram(p_col, bins=bins)\n",
    "#     hist_p = hist_p.astype(np.float) / norm(hist_p, ord=1)\n",
    "#     hist_h, _ = np.histogram(h_col, bins=bins)\n",
    "#     hist_h = hist_h.astype(np.float) / norm(hist_h, ord=1)\n",
    "#     diff = JSD(hist_p, hist_h)\n",
    "#     diffs.append((diff, column, hist_h.tolist(), hist_p.tolist(), bins))\n",
    "    \n",
    "# diffs = sorted(diffs, reverse=True)\n",
    "\n",
    "# for d, c, h, p, b in diffs:\n",
    "#     plt.plot(b, h + [0], b, p + [0])\n",
    "#     plt.title(\"%s - %0.3f\" % (c, d))\n",
    "#     plt.legend(['H', 'P'], loc='best')\n",
    "#     plt.show()"
   ]
  },
  {
   "cell_type": "code",
   "execution_count": 147,
   "metadata": {
    "collapsed": false
   },
   "outputs": [
    {
     "data": {
      "text/plain": [
       "9.05893996828698"
      ]
     },
     "execution_count": 147,
     "metadata": {},
     "output_type": "execute_result"
    }
   ],
   "source": [
    "np.mean(y)"
   ]
  },
  {
   "cell_type": "code",
   "execution_count": 148,
   "metadata": {
    "collapsed": false
   },
   "outputs": [
    {
     "data": {
      "text/plain": [
       "8955.2927034825079"
      ]
     },
     "execution_count": 148,
     "metadata": {},
     "output_type": "execute_result"
    }
   ],
   "source": [
    "np.exp(9.1)"
   ]
  },
  {
   "cell_type": "code",
   "execution_count": null,
   "metadata": {
    "collapsed": true
   },
   "outputs": [],
   "source": []
  }
 ],
 "metadata": {
  "kernelspec": {
   "display_name": "Python 2",
   "language": "python",
   "name": "python2"
  },
  "language_info": {
   "codemirror_mode": {
    "name": "ipython",
    "version": 2
   },
   "file_extension": ".py",
   "mimetype": "text/x-python",
   "name": "python",
   "nbconvert_exporter": "python",
   "pygments_lexer": "ipython2",
   "version": "2.7.11"
  },
  "widgets": {
   "state": {},
   "version": "1.1.1"
  }
 },
 "nbformat": 4,
 "nbformat_minor": 0
}
