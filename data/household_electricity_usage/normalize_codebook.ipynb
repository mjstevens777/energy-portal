{
 "cells": [
  {
   "cell_type": "code",
   "execution_count": 1,
   "metadata": {
    "collapsed": true
   },
   "outputs": [],
   "source": [
    "import json\n",
    "import csv\n",
    "import re\n",
    "import numpy as np"
   ]
  },
  {
   "cell_type": "code",
   "execution_count": 2,
   "metadata": {
    "collapsed": false
   },
   "outputs": [],
   "source": [
    "with open(\"variables.json\", \"r\") as f:\n",
    "    variables = json.load(f)['variables']\n",
    "variables = variables[:-3]"
   ]
  },
  {
   "cell_type": "code",
   "execution_count": 3,
   "metadata": {
    "collapsed": false
   },
   "outputs": [],
   "source": [
    "variableOverrides = {\n",
    "    'DOEID': 'special',\n",
    "    'NWEIGHT': 'special',\n",
    "    'TYPEHUQ': 'special',\n",
    "    'AIA_Zone': 'categorical',\n",
    "    'STORIES': 'categorical',\n",
    "#    'SIZEOFGARAGE': 'coded',\n",
    "#    'SIZEOFDETACH': 'multi',\n",
    "#    'OVENUSE': 'coded',\n",
    "#    'NUMMEAL': 'coded',\n",
    "#     'NUMFREEZ': 'continuous',\n",
    "    'SIZRFRI1': 'categorical',\n",
    "    'SIZRFRI2': 'categorical',\n",
    "    'SIZRFRI3': 'categorical',\n",
    "    'SIZFREEZ': 'categorical',\n",
    "    'SIZFREEZ2': 'categorical',\n",
    "#    'DWASHUSE': 'coded',\n",
    "    'DWASHUSE': 'categorical',\n",
    "    'USENGFP': 'categorical',\n",
    "    'USEMOISTURE': 'categorical',\n",
    "    'PERIODEL': 'categorical',\n",
    "    'PERIODNG': 'categorical',\n",
    "    'PERIODLP': 'categorical',\n",
    "    'PERIODFO': 'categorical',\n",
    "    'PERIODKR': 'categorical',\n",
    "    'Householder_Race': 'categorical',\n",
    "    'EDUCATION': 'categorical',\n",
    "    'USENOTMOIST': 'categorical'\n",
    "}"
   ]
  },
  {
   "cell_type": "code",
   "execution_count": 4,
   "metadata": {
    "collapsed": true
   },
   "outputs": [],
   "source": [
    "def variableType(var):\n",
    "    if var['name'] in variableOverrides:\n",
    "        typ = variableOverrides[var['name']]\n",
    "        if typ == 'special':\n",
    "            print(\"Warning: Skipping %s\" % name)\n",
    "        return typ\n",
    "    if 'Imputation flag' in var['description']:\n",
    "        return 'special'\n",
    "    if len(var['codebook']) == 1 and var['codebook'][0][0] == '':\n",
    "        return 'continuous'\n",
    "    numerical_count = 0\n",
    "    for code, desc in var['codebook']:\n",
    "        if re.search('[0-9]+ - [0-9]+', code):\n",
    "            return 'continuous'\n",
    "        if re.search('[0-9]', desc):\n",
    "            numerical_count += 1\n",
    "    if len(var['codebook']) > 1:\n",
    "        if numerical_count > 0:\n",
    "            return 'coded'\n",
    "        return 'categorical'\n",
    "    return None"
   ]
  },
  {
   "cell_type": "code",
   "execution_count": 5,
   "metadata": {
    "collapsed": false
   },
   "outputs": [
    {
     "name": "stdout",
     "output_type": "stream",
     "text": [
      "Warning: Skipping DOEID\n",
      "Warning: Skipping TYPEHUQ\n",
      "Warning: Skipping NWEIGHT\n"
     ]
    }
   ],
   "source": [
    "for var in variables:\n",
    "    name = var['name']\n",
    "    typ = variableType(var)\n",
    "    if typ == 'special':\n",
    "        continue\n",
    "#     print(\"%s: %s\" % (typ, name))\n",
    "#     print(var['description'])\n",
    "#     for code, desc in var['codebook']:\n",
    "#         print('\\t%s: %s' % (code, desc)) \n",
    "#     print()"
   ]
  },
  {
   "cell_type": "code",
   "execution_count": 6,
   "metadata": {
    "collapsed": false
   },
   "outputs": [
    {
     "data": {
      "text/plain": [
       "[{'codebook': [['00001 - 12083', 'Unique identifier for each respondent']],\n",
       "  'description': 'Unique identifier for each respondent',\n",
       "  'name': 'DOEID',\n",
       "  'position': 0},\n",
       " {'codebook': [['1', 'Mobile Home'],\n",
       "   ['2', 'Single-Family Detached'],\n",
       "   ['3', 'Single-Family Attached'],\n",
       "   ['4', 'Apartment in Building with 2 - 4 Units'],\n",
       "   ['5', 'Apartment in Building with 5+ Units']],\n",
       "  'description': 'Type of housing unit',\n",
       "  'name': 'TYPEHUQ',\n",
       "  'position': 4},\n",
       " {'codebook': [['', 'Final sample weight']],\n",
       "  'description': 'Final sample weight',\n",
       "  'name': 'NWEIGHT',\n",
       "  'position': 5}]"
      ]
     },
     "execution_count": 6,
     "metadata": {},
     "output_type": "execute_result"
    }
   ],
   "source": [
    "[var for var in variables if variableOverrides.get(var['name']) == 'special']"
   ]
  },
  {
   "cell_type": "code",
   "execution_count": 10,
   "metadata": {
    "collapsed": false
   },
   "outputs": [],
   "source": [
    "normalizedSpecial = [{\n",
    "    'name': 'num units',\n",
    "    'type': 'Coded',\n",
    "    'description': 'Coarse number of units in building',\n",
    "    'edges': [0, 1, 1, 2, 5, np.inf],\n",
    "    'values': [1, 2, 3, 4, 5],\n",
    "    'field': 'TYPEHUQ'\n",
    "},{\n",
    "    'name': 'building type',\n",
    "    'description': 'Building Type',\n",
    "    'labels': [\n",
    "        'mobile home',\n",
    "        'single family detached',\n",
    "        'single family attached',\n",
    "        'apartment',\n",
    "        'apartment'\n",
    "    ],\n",
    "    'values': [1, 2, 3, 4, 5],\n",
    "    'na_values': [''],\n",
    "    'field': 'TYPEHUQ'\n",
    "}]"
   ]
  },
  {
   "cell_type": "code",
   "execution_count": 11,
   "metadata": {
    "collapsed": true
   },
   "outputs": [],
   "source": [
    "na_phrases = {\n",
    "    'Not Sure', 'Not Applicable', 'Refuse', \"Don't Know\", 'Not applicable',\n",
    "    'Not applicable, no LPG/propane consumption',\n",
    "    'Not applicable, no fuel oil consumption',\n",
    "    'Not applicable, no kerosene consumption',\n",
    "    'Not applicable, no natural gas consumption'\n",
    "}"
   ]
  },
  {
   "cell_type": "code",
   "execution_count": 12,
   "metadata": {
    "collapsed": true
   },
   "outputs": [],
   "source": [
    "def parseDefault(var):\n",
    "    out = {\n",
    "        'name': var['name'],\n",
    "        'description': var['description'],\n",
    "        'field': var['name'],\n",
    "        'na_values': ['']\n",
    "    }\n",
    "    for code, desc in var['codebook']:\n",
    "        if desc in na_phrases:\n",
    "            out['na_values'].append(code)\n",
    "            continue\n",
    "        try:\n",
    "            code = int(code)\n",
    "            if code < 0:\n",
    "                print(desc)\n",
    "        except Exception:\n",
    "            pass\n",
    "    return out"
   ]
  },
  {
   "cell_type": "code",
   "execution_count": 13,
   "metadata": {
    "collapsed": false
   },
   "outputs": [],
   "source": [
    "def parseContinuous(var):\n",
    "    normalized = parseDefault(var)\n",
    "    normalized['type'] = 'Continuous'\n",
    "    \n",
    "    codebook = var['codebook']\n",
    "    if len(codebook) >= 1:\n",
    "        match = re.match('([0-9\\.]+) - ([0-9\\.]+)', codebook[0][0])\n",
    "        if match:\n",
    "            normalized['min'] = eval(match.group(1))\n",
    "            normalized['max'] = eval(match.group(2))\n",
    "    for code, desc in codebook[1:]:\n",
    "        if code not in normalized['na_values']:\n",
    "            print(normalized)\n",
    "            print('Malformed continuous variable')\n",
    "            break\n",
    "    return normalized"
   ]
  },
  {
   "cell_type": "code",
   "execution_count": 14,
   "metadata": {
    "collapsed": false
   },
   "outputs": [],
   "source": [
    "specialCategories = {'METRO', 'MICRO', 'NONE', 'U', 'R'}\n",
    "\n",
    "def parseCategorical(var):\n",
    "    normalized = parseDefault(var)\n",
    "    normalized['values'] = []\n",
    "    normalized['labels'] = []\n",
    "    for code, desc in var['codebook']:\n",
    "        if code in normalized['na_values']:\n",
    "            continue\n",
    "        if code not in specialCategories:\n",
    "            code = int(code)\n",
    "            if code < 0:\n",
    "                if code not in normalized['na_values']:\n",
    "                    print(desc)\n",
    "                continue\n",
    "        normalized['values'].append(code)\n",
    "        normalized['labels'].append(desc)\n",
    "    normalized['type'] = 'Categorical'\n",
    "    return normalized"
   ]
  },
  {
   "cell_type": "code",
   "execution_count": 15,
   "metadata": {
    "collapsed": true
   },
   "outputs": [],
   "source": [
    "num_pattern = \"[0-9]+(?:\\.[0-9]+)?\"\n",
    "\n",
    "dollar_pattern = \"\\\\$[0-9,]+(?:\\\\.[0-9]+)?\"\n",
    "\n",
    "exact_patterns = [\n",
    "    '^(%s)$' % num_pattern\n",
    "]\n",
    "\n",
    "zero_patterns = [\n",
    "    'none'\n",
    "]\n",
    "\n",
    "bottom_patterns = [\n",
    "    'less than (%s)' % dollar_pattern,\n",
    "    'before (%s)' % num_pattern,\n",
    "    'prior to (%s)' % num_pattern,\n",
    "    'less than (%s)' % num_pattern,\n",
    "    '(%s) (?:[^ ]* )?or less' % num_pattern,\n",
    "    '< (%s)' % num_pattern,\n",
    "    'in the last (%s)' % num_pattern,\n",
    "]\n",
    "\n",
    "top_patterns = [\n",
    "    '(%s) or more' % dollar_pattern,\n",
    "    'more than (%s)' % num_pattern,\n",
    "    '(%s) (?:[^ ]* )?or older' % num_pattern,\n",
    "    '(%s) (?:[^ ]* )?or more' % num_pattern,\n",
    "    \n",
    "]\n",
    "\n",
    "range_patterns = [\n",
    "    '(%s)\\-(%s)' % (num_pattern, num_pattern),\n",
    "    '(%s) \\- (%s)' % (num_pattern, num_pattern),\n",
    "    '(%s) to (%s)' % (num_pattern, num_pattern),\n",
    "    '(%s) to (%s)' % (dollar_pattern, dollar_pattern),\n",
    "    '(%s) or (%s)' % (num_pattern, num_pattern),\n",
    "    'between (%s) and (%s)' % (num_pattern, num_pattern),\n",
    "]"
   ]
  },
  {
   "cell_type": "code",
   "execution_count": 16,
   "metadata": {
    "collapsed": true
   },
   "outputs": [],
   "source": [
    "def matchCodeRange(desc):\n",
    "    for patt in bottom_patterns:\n",
    "        match = re.search(patt, desc)\n",
    "        if match:\n",
    "            return ('range', -np.inf, match.group(1))\n",
    "        \n",
    "    for patt in top_patterns:\n",
    "        match = re.search(patt, desc)\n",
    "        if match:\n",
    "            return ('range', match.group(1), np.inf)\n",
    "        \n",
    "    for patt in range_patterns:\n",
    "        match = re.search(patt, desc)\n",
    "        if match:\n",
    "            return ('range', match.group(1), match.group(2))\n",
    "        \n",
    "    for patt in exact_patterns:\n",
    "        match = re.search(patt, desc)\n",
    "        if match:\n",
    "            return ('exact', match.group(1))\n",
    "        \n",
    "    for patt in zero_patterns:\n",
    "        match = re.search(patt, desc)\n",
    "        if match:\n",
    "            return ('exact', 0)\n",
    "        \n",
    "    print(\"Could not match %s\" % desc)"
   ]
  },
  {
   "cell_type": "code",
   "execution_count": 17,
   "metadata": {
    "collapsed": false
   },
   "outputs": [],
   "source": [
    "def to_numeric(s):\n",
    "    if isinstance(s, str):\n",
    "        return eval(s.replace('$','').replace(',',''))\n",
    "    else:\n",
    "        return s\n",
    "\n",
    "def parseCoded(var):\n",
    "    normalized = parseDefault(var)\n",
    "    normalized['type'] = 'Coded'\n",
    "    codebook = [(code, desc) for code, desc in var['codebook']\n",
    "                if (code not in normalized['na_values'])]\n",
    "    edge_tuples = []\n",
    "    for i, t in enumerate(codebook):\n",
    "        code, desc = t\n",
    "        code = int(code)\n",
    "        desc = desc.lower()\n",
    "        match = matchCodeRange(desc)\n",
    "        if match[0] == 'exact':\n",
    "            edge_tuples.append((to_numeric(match[1]), to_numeric(match[1])))\n",
    "        else:\n",
    "            edge_tuples.append((to_numeric(match[1]), to_numeric(match[2])))\n",
    "    for a, b in edge_tuples:\n",
    "        if a > b:\n",
    "            raise Exception('Descending ranges')\n",
    "    order = np.argsort([a for a, b in edge_tuples])\n",
    "    edge_tuples = np.array(edge_tuples)\n",
    "    edge_tuples = edge_tuples[order].astype('d')\n",
    "    for i in range(len(edge_tuples) - 1):\n",
    "        if edge_tuples[i][1] > edge_tuples[i + 1][0]:\n",
    "            raise Exception('Descending ranges')\n",
    "    inner_edges = np.maximum(edge_tuples[1:, 0], edge_tuples[:-1, 1])\n",
    "    edges = [edge_tuples[0][0]] + inner_edges.tolist() + [edge_tuples[-1][1]]\n",
    "    normalized['edges'] = edges\n",
    "    normalized['values'] = []\n",
    "    for i in order:\n",
    "        normalized['values'].append(codebook[i][0])\n",
    "    return normalized"
   ]
  },
  {
   "cell_type": "code",
   "execution_count": 18,
   "metadata": {
    "collapsed": true
   },
   "outputs": [],
   "source": [
    "codebookParsers = {\n",
    "    'continuous': parseContinuous,\n",
    "    'categorical': parseCategorical,\n",
    "    'coded': parseCoded,\n",
    "}"
   ]
  },
  {
   "cell_type": "code",
   "execution_count": 19,
   "metadata": {
    "collapsed": false
   },
   "outputs": [
    {
     "name": "stdout",
     "output_type": "stream",
     "text": [
      "Warning: Skipping DOEID\n",
      "Warning: Skipping TYPEHUQ\n",
      "Warning: Skipping NWEIGHT\n"
     ]
    }
   ],
   "source": [
    "normalizedVariables = normalizedSpecial[:]\n",
    "\n",
    "for var in variables:\n",
    "    name = var['name']\n",
    "    typ = variableType(var)\n",
    "    if typ == 'special':\n",
    "        continue\n",
    "    if typ in codebookParsers:\n",
    "        normalized = codebookParsers[typ](var)\n",
    "        normalizedVariables.append(normalized)"
   ]
  },
  {
   "cell_type": "code",
   "execution_count": 23,
   "metadata": {
    "collapsed": false
   },
   "outputs": [],
   "source": [
    "with open(\"normalized_variables.json\", \"w\") as f:\n",
    "    json.dump(normalizedVariables, f, sort_keys=True, indent=2)"
   ]
  },
  {
   "cell_type": "code",
   "execution_count": null,
   "metadata": {
    "collapsed": true
   },
   "outputs": [],
   "source": []
  }
 ],
 "metadata": {
  "kernelspec": {
   "display_name": "Python 3",
   "language": "python",
   "name": "python3"
  },
  "language_info": {
   "codemirror_mode": {
    "name": "ipython",
    "version": 3
   },
   "file_extension": ".py",
   "mimetype": "text/x-python",
   "name": "python",
   "nbconvert_exporter": "python",
   "pygments_lexer": "ipython3",
   "version": "3.5.1"
  }
 },
 "nbformat": 4,
 "nbformat_minor": 0
}
