{
 "cells": [
  {
   "cell_type": "code",
   "execution_count": 29,
   "metadata": {
    "collapsed": true
   },
   "outputs": [],
   "source": [
    "import json\n",
    "import csv\n",
    "import re"
   ]
  },
  {
   "cell_type": "code",
   "execution_count": 30,
   "metadata": {
    "collapsed": false
   },
   "outputs": [],
   "source": [
    "integerMatch = re.compile(\"-?[0-9]+\")"
   ]
  },
  {
   "cell_type": "code",
   "execution_count": 31,
   "metadata": {
    "collapsed": false
   },
   "outputs": [],
   "source": [
    "with open(\"variables.json\", \"r\") as f:\n",
    "    variables = json.load(f)['variables']"
   ]
  },
  {
   "cell_type": "code",
   "execution_count": 32,
   "metadata": {
    "collapsed": false
   },
   "outputs": [],
   "source": [
    "normalizedVariables = []"
   ]
  },
  {
   "cell_type": "code",
   "execution_count": 33,
   "metadata": {
    "collapsed": false
   },
   "outputs": [
    {
     "name": "stdout",
     "output_type": "stream",
     "text": [
      "HDD30YR is of unknown type!\n",
      "CDD30YR is of unknown type!\n",
      "LGT12 is of unknown type!\n",
      "LGT12EE is of unknown type!\n"
     ]
    }
   ],
   "source": [
    "for variable in variables:\n",
    "    normalizedDict = {}\n",
    "    normalizedDict['description'] = variable[\"description\"]\n",
    "    normalizedDict['name'] = variable[\"name\"]\n",
    "        \n",
    "    #check if continuous\n",
    "    numIntegersInLabelField = len(re.findall(integerMatch, variable['codebook'][0][1]))\n",
    "    if len(variable['codebook'][0][0]) == 1:\n",
    "        normalizedDict['type'] = 'Continuous'\n",
    "        normalizedDict['field'] = variable['codebook'][0][1]\n",
    "    elif numIntegersInLabelField == 0:\n",
    "        normalizedDict['type'] = 'Categorical'\n",
    "        normalizedDict['values'] = []\n",
    "        normalizedDict['labels'] = []\n",
    "        for category in variable['codebook']:\n",
    "            if category[1] == \"Not Applicable\":\n",
    "                normalizedDict['na'] = category[0]\n",
    "            else:\n",
    "                normalizedDict['values'].append(category[0])\n",
    "                normalizedDict['labels'].append(category[1])\n",
    "    elif numIntegersInLabelField == 2:\n",
    "        normalizedDict['type'] = 'Coded Histogram'\n",
    "        normalizedDict['edges'] = []\n",
    "        normalizedDict['values'] = []\n",
    "        for index, category in enumerate(variable['codebook']):\n",
    "            if category[1] == \"Not Applicable\":\n",
    "                normalizedDict['na'] = category[0]\n",
    "            else:\n",
    "                edges = re.findall(integerMatch, variable['codebook'][0][1])\n",
    "                if index == 0:\n",
    "                    normalizedDict['edges'].append(edges[0])\n",
    "                normalizedDict['edges'].append(edges[1])\n",
    "                normalizedDict['values'].append(category[1])\n",
    "    else:\n",
    "        normalizedDict['type'] = 'UNKNOWN'\n",
    "        print(variable['name']+\" is of unknown type!\")\n",
    "    normalizedVariables.append(normalizedDict)\n",
    "    \n",
    "    "
   ]
  },
  {
   "cell_type": "code",
   "execution_count": 34,
   "metadata": {
    "collapsed": true
   },
   "outputs": [],
   "source": [
    "with open(\"normalized_variables.json\", \"w\") as f:\n",
    "    json.dump(normalizedVariables, f, sort_keys=True, indent=2)"
   ]
  },
  {
   "cell_type": "code",
   "execution_count": null,
   "metadata": {
    "collapsed": true
   },
   "outputs": [],
   "source": []
  }
 ],
 "metadata": {
  "kernelspec": {
   "display_name": "Python 3",
   "language": "python",
   "name": "python3"
  },
  "language_info": {
   "codemirror_mode": {
    "name": "ipython",
    "version": 3
   },
   "file_extension": ".py",
   "mimetype": "text/x-python",
   "name": "python",
   "nbconvert_exporter": "python",
   "pygments_lexer": "ipython3",
   "version": "3.4.1"
  }
 },
 "nbformat": 4,
 "nbformat_minor": 0
}
