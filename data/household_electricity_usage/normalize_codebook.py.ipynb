{
 "cells": [
  {
   "cell_type": "code",
   "execution_count": 25,
   "metadata": {
    "collapsed": true
   },
   "outputs": [],
   "source": [
    "import json\n",
    "import csv\n",
    "import re"
   ]
  },
  {
   "cell_type": "code",
   "execution_count": 26,
   "metadata": {
    "collapsed": false
   },
   "outputs": [],
   "source": [
    "integerMatch = re.compile(\"-?[0-9]+\")"
   ]
  },
  {
   "cell_type": "code",
   "execution_count": 27,
   "metadata": {
    "collapsed": false
   },
   "outputs": [],
   "source": [
    "with open(\"variables.json\", \"r\") as f:\n",
    "    variables = json.load(f)['variables']"
   ]
  },
  {
   "cell_type": "code",
   "execution_count": 28,
   "metadata": {
    "collapsed": false
   },
   "outputs": [],
   "source": [
    "normalizedVariables = []"
   ]
  },
  {
   "cell_type": "code",
   "execution_count": 30,
   "metadata": {
    "collapsed": false
   },
   "outputs": [
    {
     "name": "stdout",
     "output_type": "stream",
     "text": [
      "HDD30YR is of unknown type!\n",
      "CDD30YR is of unknown type!\n",
      "AIA_Zone is of unknown type!\n",
      "YEARMADERANGE is of unknown type!\n",
      "OCCUPYYRANGE is of unknown type!\n",
      "AGERFRI1 is of unknown type!\n",
      "HELPFRIY is of unknown type!\n",
      "AGERFRI2 is of unknown type!\n",
      "AGERFRI3 is of unknown type!\n",
      "SIZFREEZ is of unknown type!\n",
      "AGEFRZR is of unknown type!\n",
      "HELPFRZY is of unknown type!\n",
      "SIZFREEZ2 is of unknown type!\n",
      "AGEFRZR2 is of unknown type!\n",
      "AGEDW is of unknown type!\n",
      "HELPDWY is of unknown type!\n",
      "WASHLOAD is of unknown type!\n",
      "AGECWASH is of unknown type!\n",
      "HELPCWY is of unknown type!\n",
      "AGECDRYER is of unknown type!\n",
      "TVSIZE1 is of unknown type!\n",
      "TVONWD1 is of unknown type!\n",
      "TVONWE1 is of unknown type!\n",
      "TVSIZE2 is of unknown type!\n",
      "TVONWD2 is of unknown type!\n",
      "TVONWE2 is of unknown type!\n",
      "TVSIZE3 is of unknown type!\n",
      "TVONWD3 is of unknown type!\n",
      "TVONWE3 is of unknown type!\n",
      "TIMEON1 is of unknown type!\n",
      "TIMEON2 is of unknown type!\n",
      "TIMEON3 is of unknown type!\n",
      "BATTOOLS is of unknown type!\n",
      "ELECDEV is of unknown type!\n",
      "EQUIPAGE is of unknown type!\n",
      "HELPHTY is of unknown type!\n",
      "WHEATSIZ is of unknown type!\n",
      "WHEATAGE is of unknown type!\n",
      "HELPWHY is of unknown type!\n",
      "WHEATSIZ2 is of unknown type!\n",
      "WHEATAGE2 is of unknown type!\n",
      "AGECENAC is of unknown type!\n",
      "HELPCACY is of unknown type!\n",
      "WWACAGE is of unknown type!\n",
      "HELPWWACY is of unknown type!\n",
      "LGT12 is of unknown type!\n",
      "LGT12EE is of unknown type!\n",
      "HELPCFLY is of unknown type!\n",
      "HELPWINY is of unknown type!\n",
      "AGEINS is of unknown type!\n",
      "HELPINSY is of unknown type!\n",
      "AGEWS is of unknown type!\n",
      "HELPWSY is of unknown type!\n",
      "AGEAUD is of unknown type!\n",
      "HELPAUDY is of unknown type!\n",
      "AGEHHMEMCAT2 is of unknown type!\n",
      "AGEHHMEMCAT3 is of unknown type!\n",
      "AGEHHMEMCAT4 is of unknown type!\n",
      "AGEHHMEMCAT5 is of unknown type!\n",
      "AGEHHMEMCAT6 is of unknown type!\n",
      "AGEHHMEMCAT7 is of unknown type!\n",
      "AGEHHMEMCAT8 is of unknown type!\n",
      "AGEHHMEMCAT9 is of unknown type!\n",
      "AGEHHMEMCAT10 is of unknown type!\n",
      "AGEHHMEMCAT11 is of unknown type!\n",
      "AGEHHMEMCAT12 is of unknown type!\n",
      "AGEHHMEMCAT13 is of unknown type!\n",
      "AGEHHMEMCAT14 is of unknown type!\n",
      "PERIODEL is of unknown type!\n",
      "PERIODNG is of unknown type!\n",
      "PERIODLP is of unknown type!\n",
      "PERIODFO is of unknown type!\n",
      "PERIODKR is of unknown type!\n"
     ]
    }
   ],
   "source": [
    "for variable in variables:\n",
    "    normalizedDict = {}\n",
    "    normalizedDict['description'] = variable[\"description\"]\n",
    "    normalizedDict['name'] = variable['name']\n",
    "    #check if continuous\n",
    "    numIntegersInLabelField = len(re.findall(integerMatch, variable['codebook'][0][1]))\n",
    "    if len(variable['codebook'][0]) == 1:\n",
    "        normalizedDict['type'] = 'Continuous'\n",
    "        normalizedDict['field'] = variable['codebook'][0][1]\n",
    "    elif numIntegersInLabelField == 0:\n",
    "        normalizedDict['type'] = 'Categorical'\n",
    "        normalizedDict['labels'] = []\n",
    "        normalizedDict['values'] = []\n",
    "        for category in variable['codebook']:\n",
    "            if category[1] is \"Not Applicable\":\n",
    "                normalizedDict['na'] = category[0]\n",
    "            else:\n",
    "                normalizedDict['labels'].append(category[0])\n",
    "                normalizedDict['values'].append(category[1])\n",
    "    elif numIntegersInLabelField == 2:\n",
    "        normalizedDict['type'] = 'Coded Histogram'\n",
    "        normalizedDict['edges'] = []\n",
    "        normalizedDict['values'] = []\n",
    "        for index, category in enumerate(variable['codebook']):\n",
    "            if category[1] is \"Not Applicable\":\n",
    "                normalizedDict['na'] = category[0]\n",
    "            else:\n",
    "                edges = re.findall(integerMatch, variable['codebook'][0][1])\n",
    "                if index == 0:\n",
    "                    normalizedDict['edges'].append(edges[0])\n",
    "                normalizedDict['edges'].append(edges[1])\n",
    "                normalizedDict['values'].append(category[1])\n",
    "    else:\n",
    "        normalizedDict['type'] = 'UNKNOWN'\n",
    "        print(variable['name']+\" is of unknown type!\")\n",
    "    normalizedVariables.append(normalizedDict)\n",
    "    \n",
    "    "
   ]
  },
  {
   "cell_type": "code",
   "execution_count": 32,
   "metadata": {
    "collapsed": true
   },
   "outputs": [],
   "source": [
    "with open(\"normalized_variables.json\", \"w\") as f:\n",
    "    json.dump(normalizedVariables, f, sort_keys=True, indent=2)"
   ]
  },
  {
   "cell_type": "code",
   "execution_count": null,
   "metadata": {
    "collapsed": true
   },
   "outputs": [],
   "source": []
  }
 ],
 "metadata": {
  "kernelspec": {
   "display_name": "Python 3",
   "language": "python",
   "name": "python3"
  },
  "language_info": {
   "codemirror_mode": {
    "name": "ipython",
    "version": 3
   },
   "file_extension": ".py",
   "mimetype": "text/x-python",
   "name": "python",
   "nbconvert_exporter": "python",
   "pygments_lexer": "ipython3",
   "version": "3.4.1"
  }
 },
 "nbformat": 4,
 "nbformat_minor": 0
}
