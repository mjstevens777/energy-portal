{
 "cells": [
  {
   "cell_type": "code",
   "execution_count": 1,
   "metadata": {
    "collapsed": true
   },
   "outputs": [],
   "source": [
    "import json\n",
    "\n",
    "with open('data-dictionary.json', encoding='latin-1') as f:\n",
    "    data = json.load(f)"
   ]
  },
  {
   "cell_type": "code",
   "execution_count": 2,
   "metadata": {
    "collapsed": true
   },
   "outputs": [],
   "source": [
    "def printvar(name):\n",
    "    for recordtype, cat in data['categories'].items():\n",
    "        for var in cat:\n",
    "            if var['name'] == name:\n",
    "                print(var)"
   ]
  },
  {
   "cell_type": "code",
   "execution_count": 3,
   "metadata": {
    "collapsed": true
   },
   "outputs": [],
   "source": [
    "def normalize_desc(desc):\n",
    "    desc = desc.lower()\n",
    "    desc = desc.replace(\"(bottom-coded)\", \"\")\n",
    "    desc = desc.replace(\"(top-coded)\", \"\")\n",
    "    desc = desc.strip()\n",
    "    desc = desc.replace('\\x96', '-')\n",
    "    return desc"
   ]
  },
  {
   "cell_type": "markdown",
   "metadata": {},
   "source": [
    "# Special"
   ]
  },
  {
   "cell_type": "code",
   "execution_count": 410,
   "metadata": {
    "collapsed": true
   },
   "outputs": [],
   "source": [
    "specialVariables = {\n",
    "    'RT',\n",
    "    'SERIALNO',\n",
    "    'SPORDER',\n",
    "    'PWGTP',\n",
    "    'WGTP',\n",
    "    'ELEP',\n",
    "    'GASP',\n",
    "    'FULP',\n",
    "    'WATP',\n",
    "    'BLD',\n",
    "}"
   ]
  },
  {
   "cell_type": "code",
   "execution_count": 411,
   "metadata": {
    "collapsed": false
   },
   "outputs": [
    {
     "name": "stdout",
     "output_type": "stream",
     "text": [
      "{'description': 'Electricity (monthly cost)\\nNote: Use ADJHSG to adjust ELEP values 3 and over to constant dollars.', 'footnotes': [], 'short_description': 'Electricity (monthly cost)', 'name': 'ELEP', 'size': '3', 'codebook': [['bbb', 'N/A (GQ/vacant)'], ['001', 'Included in rent or in condo fee'], ['002', 'No charge or electricity not used'], ['003..999', '$3 to $999 (Rounded and top-coded)']]}\n"
     ]
    }
   ],
   "source": [
    "printvar('ELEP')"
   ]
  },
  {
   "cell_type": "code",
   "execution_count": 412,
   "metadata": {
    "collapsed": true
   },
   "outputs": [],
   "source": [
    "specialNormalized = []"
   ]
  },
  {
   "cell_type": "code",
   "execution_count": 413,
   "metadata": {
    "collapsed": true
   },
   "outputs": [],
   "source": [
    "specialNormalized += [{\n",
    "    'name': 'electricity',\n",
    "    'field': 'ELEP',\n",
    "    'min': 3,\n",
    "    'max': 999,\n",
    "    'description': 'Monthly electricity cost',\n",
    "    'type': 'Continuous',\n",
    "    'na_values': ['   ', '001', '002'],\n",
    "},{\n",
    "    'name': 'electricity included in rent',\n",
    "    'field': 'ELEP',\n",
    "    'description': 'Electricity included in rent',\n",
    "    'type': 'Categorical',\n",
    "    'na_values': ['%03d' % i for i in range(2, 1000)],\n",
    "    'values': [1],\n",
    "    'labels': ['included in rent'],\n",
    "}]"
   ]
  },
  {
   "cell_type": "code",
   "execution_count": 414,
   "metadata": {
    "collapsed": false
   },
   "outputs": [
    {
     "name": "stdout",
     "output_type": "stream",
     "text": [
      "{'description': 'Gas (monthly cost)\\nNote: Use ADJHSG to adjust GASP values 4 and over to constant dollars.', 'footnotes': [], 'short_description': 'Gas (monthly cost)', 'name': 'GASP', 'size': '3', 'codebook': [['bbb', 'N/A (GQ/vacant)'], ['001', 'Included in rent or in condo fee'], ['002', 'Included in electricity payment'], ['003', 'No charge or gas not used'], ['004..999', '$4 to $999 (Rounded and top-coded)']]}\n"
     ]
    }
   ],
   "source": [
    "printvar('GASP')"
   ]
  },
  {
   "cell_type": "code",
   "execution_count": 415,
   "metadata": {
    "collapsed": true
   },
   "outputs": [],
   "source": [
    "specialNormalized += [{\n",
    "    'name': 'gas',\n",
    "    'field': 'GASP',\n",
    "    'min': 4,\n",
    "    'max': 999,\n",
    "    'description': 'Monthly gas cost',\n",
    "    'type': 'Continuous',\n",
    "    'na_values': ['   ', '001', '002', '003'],\n",
    "},{\n",
    "    'name': 'gas included in rent',\n",
    "    'field': 'GASP',\n",
    "    'description': 'Gas included in rent',\n",
    "    'type': 'Categorical',\n",
    "    'values': [1, 2],\n",
    "    'labels': ['included in rent', 'included in electricity'],\n",
    "}]"
   ]
  },
  {
   "cell_type": "code",
   "execution_count": 416,
   "metadata": {
    "collapsed": false
   },
   "outputs": [
    {
     "name": "stdout",
     "output_type": "stream",
     "text": [
      "{'description': 'Fuel cost(yearly cost for fuels other than gas and electricity)\\nNote: Use ADJHSG to adjust FULP values 3 and over to constant dollars.', 'footnotes': [], 'short_description': 'Fuel cost(yearly cost for fuels other than gas and electricity)', 'name': 'FULP', 'size': '4', 'codebook': [['bbbb', 'N/A (GQ/vacant)'], ['0001', 'Included in rent or in condo fee'], ['0002', 'No charge or these fuels not used'], ['0003..9999', '$3 to $9999 (Rounded and top-coded)']]}\n"
     ]
    }
   ],
   "source": [
    "printvar('FULP')"
   ]
  },
  {
   "cell_type": "code",
   "execution_count": 417,
   "metadata": {
    "collapsed": true
   },
   "outputs": [],
   "source": [
    "specialNormalized += [{\n",
    "    'name': 'fuel',\n",
    "    'field': 'FULP',\n",
    "    'min': 3,\n",
    "    'max': 999,\n",
    "    'description': 'Yearly fuel cost',\n",
    "    'type': 'Continuous',\n",
    "    'na_values': ['   ', '001', '002'],\n",
    "},{\n",
    "    'name': 'fuel included in rent',\n",
    "    'field': 'FULP',\n",
    "    'description': 'Fuel included in rent',\n",
    "    'type': 'Categorical',\n",
    "    'values': [1],\n",
    "    'labels': ['included in rent'],\n",
    "}]"
   ]
  },
  {
   "cell_type": "code",
   "execution_count": 418,
   "metadata": {
    "collapsed": false
   },
   "outputs": [
    {
     "name": "stdout",
     "output_type": "stream",
     "text": [
      "{'description': 'Water (yearly cost)\\nNote: Use ADJHSG to adjust WATP values 3 and over to constant dollars.', 'footnotes': [], 'short_description': 'Water (yearly cost)', 'name': 'WATP', 'size': '4', 'codebook': [['bbbb', 'N/A (GQ/vacant)'], ['0001', 'Included in rent or in condo fee'], ['0002', 'No charge'], ['0003..9999', '$3 to $9999 (Rounded and top-coded)']]}\n"
     ]
    }
   ],
   "source": [
    "printvar('WATP')"
   ]
  },
  {
   "cell_type": "code",
   "execution_count": 419,
   "metadata": {
    "collapsed": true
   },
   "outputs": [],
   "source": [
    "specialNormalized += [{\n",
    "    'name': 'water',\n",
    "    'field': 'WATP',\n",
    "    'min': 3,\n",
    "    'max': 999,\n",
    "    'description': 'Yearly water cost',\n",
    "    'type': 'Continuous',\n",
    "    'na_values': ['   ', '001', '002'],\n",
    "},{\n",
    "    'name': 'water included in rent',\n",
    "    'field': 'WATP',\n",
    "    'description': 'Water included in rent',\n",
    "    'type': 'Categorical',\n",
    "    'values': ['001'],\n",
    "    'labels': ['included in rent'],\n",
    "}]"
   ]
  },
  {
   "cell_type": "code",
   "execution_count": 420,
   "metadata": {
    "collapsed": false
   },
   "outputs": [
    {
     "name": "stdout",
     "output_type": "stream",
     "text": [
      "{'description': 'Units in structure', 'footnotes': [], 'short_description': 'Units in structure', 'name': 'BLD', 'size': '2', 'codebook': [['bb', 'N/A (GQ)'], ['01', 'Mobile home or trailer'], ['02', 'One-family house detached'], ['03', 'One-family house attached'], ['04', '2 Apartments'], ['05', '3-4 Apartments'], ['06', '5-9 Apartments'], ['07', '10-19 Apartments'], ['08', '20-49 Apartments'], ['09', '50 or more apartments'], ['10', 'Boat, RV, van, etc.']]}\n"
     ]
    }
   ],
   "source": [
    "printvar('BLD')"
   ]
  },
  {
   "cell_type": "code",
   "execution_count": 421,
   "metadata": {
    "collapsed": true
   },
   "outputs": [],
   "source": [
    "specialNormalized += [{\n",
    "    'name': 'num units',\n",
    "    'type': 'Coded',\n",
    "    'description': 'Number of units in building',\n",
    "    'edges': [0, 1, 1, 1, 2, 3, 5, 10, 20, 50, np.inf],\n",
    "    'values': [10, 1, 2, 3, 4, 5, 6, 7, 8, 9],\n",
    "    'field': 'BLD'\n",
    "},{\n",
    "    'name': 'building type',\n",
    "    'description': 'Building Type',\n",
    "    'type': 'Categorical',\n",
    "    'labels': [\n",
    "        'mobile home',\n",
    "        'single family detached',\n",
    "        'single family attached',\n",
    "        'apartment',\n",
    "        'apartment',\n",
    "        'apartment',\n",
    "        'apartment',\n",
    "        'apartment',\n",
    "        'apartment',\n",
    "        'other'\n",
    "    ],\n",
    "    'values': [1, 2, 3, 4, 5, 6, 7, 8, 9, 10],\n",
    "    'na_values': [''],\n",
    "    'field': 'BLD'\n",
    "}]"
   ]
  },
  {
   "cell_type": "markdown",
   "metadata": {},
   "source": [
    "# Continuous"
   ]
  },
  {
   "cell_type": "code",
   "execution_count": 422,
   "metadata": {
    "collapsed": true
   },
   "outputs": [],
   "source": [
    "continuousVariables = {\n",
    "    'ADJHSG',\n",
    "    'ADJINC',\n",
    "}"
   ]
  },
  {
   "cell_type": "code",
   "execution_count": 423,
   "metadata": {
    "collapsed": true
   },
   "outputs": [],
   "source": [
    "directContinuous = {\n",
    "    'JWRIP',\n",
    "    'VEH',\n",
    "    'WIF',\n",
    "    'R60',\n",
    "    'R65',\n",
    "    'CITWP',\n",
    "    'MARHYP',\n",
    "    'YOEP',\n",
    "}"
   ]
  },
  {
   "cell_type": "code",
   "execution_count": 424,
   "metadata": {
    "collapsed": true
   },
   "outputs": [],
   "source": [
    "import re\n",
    "numPattern = \"-?[0-9]+\"\n",
    "floatPattern = \"-?[0-9](?:\\.[0-9]+)\"\n",
    "rangePattern = \"(%s)\\\\.\\\\.(%s)\" % (numPattern, numPattern)\n",
    "\n",
    "def isContinuous(var):\n",
    "    if var['name'] in continuousVariables:\n",
    "        return True\n",
    "    for code, desc in var['codebook']:\n",
    "        match = re.match(rangePattern, code)\n",
    "        if match:\n",
    "            return True\n",
    "    return False    "
   ]
  },
  {
   "cell_type": "code",
   "execution_count": 425,
   "metadata": {
    "collapsed": false
   },
   "outputs": [],
   "source": [
    "naContinuous = {\n",
    "    ('CONP', 0),\n",
    "    ('MIGPUMA', 1),\n",
    "    ('MIGPUMA', 2),\n",
    "    ('POWPUMA', 1),\n",
    "}"
   ]
  },
  {
   "cell_type": "code",
   "execution_count": 426,
   "metadata": {
    "collapsed": true
   },
   "outputs": [],
   "source": [
    "naContinuousPatterns = {\n",
    "    'None',\n",
    "}"
   ]
  },
  {
   "cell_type": "code",
   "execution_count": 427,
   "metadata": {
    "collapsed": true
   },
   "outputs": [],
   "source": [
    "validContinuousPatterns = {\n",
    "    '\\\\$1 or Break even',\n",
    "    'Loss of -?\\\\$.* or more',\n",
    "    '2014 factor.*'\n",
    "}"
   ]
  },
  {
   "cell_type": "code",
   "execution_count": 428,
   "metadata": {
    "collapsed": true
   },
   "outputs": [],
   "source": [
    "validContinuous = {\n",
    "    ('AGEP', 0),\n",
    "    ('GRPIP', 101),\n",
    "    ('NOC', 0),\n",
    "    ('NP', 0),\n",
    "    ('NP', 1),\n",
    "    ('NRC', 0),\n",
    "    ('OCPIP', 101),\n",
    "    ('POVPIP', 501),\n",
    "    ('WKHP', 99),\n",
    "}"
   ]
  },
  {
   "cell_type": "code",
   "execution_count": 429,
   "metadata": {
    "collapsed": true
   },
   "outputs": [],
   "source": [
    "for v in ['FINCP', 'HINCP', 'INTP', 'PERNP', 'PINCP', 'SEMP']:\n",
    "    naContinuous.add((v, 0))\n",
    "    validContinuous.add((v, 1))"
   ]
  },
  {
   "cell_type": "code",
   "execution_count": 430,
   "metadata": {
    "collapsed": true
   },
   "outputs": [],
   "source": [
    "import numpy as np\n",
    "\n",
    "def parseContinuous(var):\n",
    "    name = var['name']\n",
    "    na_values = []\n",
    "    vals = []\n",
    "    for code, desc in var['codebook']:\n",
    "        match = re.match(rangePattern, code)\n",
    "        if match:\n",
    "            vals.append(int(match.group(1)))\n",
    "            vals.append(int(match.group(2)))\n",
    "            continue\n",
    "        try:\n",
    "            code = int(code)\n",
    "        except Exception:\n",
    "            na_values.append(code.replace('b',' '))\n",
    "            continue\n",
    "        code = int(code)\n",
    "        if any(re.match(patt, desc) for patt in naContinuousPatterns):\n",
    "            na_values.append(code)\n",
    "        elif name in directContinuous:\n",
    "            vals.append(code)\n",
    "        elif (name, code) in naContinuous:\n",
    "            na_values.append(code)\n",
    "        elif any(re.match(patt, desc) for patt in validContinuousPatterns):\n",
    "            vals.append(code)\n",
    "        elif (name, code) in validContinuous:\n",
    "            vals.append(code)\n",
    "        else:\n",
    "            print(var)\n",
    "            raise Exception('Could not parse code/desc %d: %s' % (code, desc))\n",
    "    return {\n",
    "        'name': var['name'],\n",
    "        'field': var['name'],\n",
    "        'type': 'Continuous',\n",
    "        'description': var['short_description'],\n",
    "        'na_values': na_values,\n",
    "        'min': min(vals),\n",
    "        'max': max(vals),\n",
    "    }\n",
    "    return None"
   ]
  },
  {
   "cell_type": "markdown",
   "metadata": {},
   "source": [
    "# Coded"
   ]
  },
  {
   "cell_type": "code",
   "execution_count": 431,
   "metadata": {
    "collapsed": true
   },
   "outputs": [],
   "source": [
    "nonCodedPatterns = {\n",
    "    'children under 6 years',\n",
    "    'children 6 to 17 years',\n",
    "    'children under 6 years and 6 to 17 years',\n",
    "    'children under 5 years',\n",
    "    'children 5 to 17 years',\n",
    "    'children under 5 years and 5 to 17 years',\n",
    "    '^no person',\n",
    "    '^1 or more persons',\n",
    "}"
   ]
  },
  {
   "cell_type": "code",
   "execution_count": 432,
   "metadata": {
    "collapsed": false
   },
   "outputs": [],
   "source": [
    "directLookup = {\n",
    "    '12 months or less': ('range', 0, 1),\n",
    "    'within the past 12 months': ('range', 0, 1),\n",
    "    '13 to 23 months': ('range', 1, 2),\n",
    "    'less than 6 months': ('range', 0, 0.5),\n",
    "    '6 to 11 months': ('range', 0.5, 1.0),\n",
    "}\n",
    "\n",
    "timePattern = \"([0-9]?[0-9]):([0-9][0-9]) ([ap])\\.m\\.\"\n",
    "\n",
    "timeRangePatterns = [\n",
    "    \"%s to %s\" % (timePattern, timePattern)\n",
    "]\n",
    "\n",
    "rangePatterns = [\n",
    "    '\\\\$ *(%s) - \\\\$ *(%s)$' % (numPattern, numPattern),\n",
    "    '(%s) - (%s)$' % (numPattern, numPattern),\n",
    "    '(%s)-(%s) years' % (numPattern, numPattern),\n",
    "    '(%s) to (%s)$' % (numPattern, numPattern),\n",
    "    '(%s) to (%s) weeks' % (numPattern, numPattern),\n",
    "    '(%s) to (%s) years$' % (numPattern, numPattern),\n",
    "    '(%s) or (%s) percent$' % (numPattern, numPattern),\n",
    "    '(%s) or (%s) years$' % (numPattern, numPattern),\n",
    "    '(%s), 80, 90, or (%s) percent'  % (numPattern, numPattern)\n",
    "]\n",
    "\n",
    "exactPatterns = [\n",
    "    '^(%s)$' % numPattern,\n",
    "    '^(%s) percent$' % numPattern,\n",
    "    '(%s) vehicle' % floatPattern,\n",
    "    '^in subfamily (%s)$' % numPattern,\n",
    "]\n",
    "\n",
    "bottomPatterns = [\n",
    "    '^(%s) or earlier$' % numPattern,\n",
    "    '^before (%s)$' % numPattern,\n",
    "    'less than (%s) weeks' % numPattern,\n",
    "]\n",
    "\n",
    "topPatterns = [\n",
    "    '\\\\$(%s)\\\\+(?:\\(top-coded\\))?$' % numPattern,\n",
    "    '(%s) years or more$' % (numPattern,),\n",
    "    '(%s) or more years$' % (numPattern,),\n",
    "    '(%s) or later$' % (numPattern,),\n",
    "    'over (%s) years' % (numPattern,),\n",
    "]\n",
    "\n",
    "naCodedPatterns = [\n",
    "    'none$',\n",
    "    'not reported$'\n",
    "]"
   ]
  },
  {
   "cell_type": "code",
   "execution_count": 433,
   "metadata": {
    "collapsed": true
   },
   "outputs": [],
   "source": [
    "def parseRange(desc):\n",
    "    desc = normalize_desc(desc)\n",
    "    \n",
    "    if any(re.match(patt, desc) for patt in naCodedPatterns):\n",
    "        return ('na',)\n",
    "    \n",
    "    if desc in directLookup:\n",
    "        return directLookup[desc]\n",
    "\n",
    "    for patt in timeRangePatterns:\n",
    "        match = re.match(patt, desc)\n",
    "        if match:\n",
    "            time1 = (int(match.group(3) == 'p') * 12 + int(match.group(1)) % 12) * 60 + int(match.group(2))\n",
    "            time2 = (int(match.group(6) == 'p') * 12 + int(match.group(4)) % 12) * 60 + int(match.group(5))\n",
    "            return ('range', time1, time2)\n",
    "    \n",
    "    for patt in exactPatterns:\n",
    "        match = re.match(patt, desc)\n",
    "        if match:\n",
    "            return ('exact', match.group(1))\n",
    "        \n",
    "    for patt in topPatterns:\n",
    "        match = re.match(patt, desc)\n",
    "        if match:\n",
    "            return ('range', match.group(1), np.inf)\n",
    "        \n",
    "    for patt in bottomPatterns:\n",
    "        match = re.match(patt, desc)\n",
    "        if match:\n",
    "            return ('range', -np.inf, match.group(1))\n",
    "        \n",
    "    for patt in rangePatterns:\n",
    "        match = re.match(patt, desc)\n",
    "        if match:\n",
    "            return ('range', match.group(1), match.group(2))\n",
    "    return None"
   ]
  },
  {
   "cell_type": "code",
   "execution_count": 434,
   "metadata": {
    "collapsed": false
   },
   "outputs": [],
   "source": [
    "def to_numeric(s):\n",
    "    if isinstance(s, str):\n",
    "        return eval(s.replace('$','').replace(',',''))\n",
    "    else:\n",
    "        return s\n",
    "\n",
    "def parseCoded(var):\n",
    "    name = var['name']\n",
    "    na_values = []\n",
    "    edge_tuples = []\n",
    "    codebook = []\n",
    "    all_exact = True\n",
    "    for code, desc in var['codebook']:\n",
    "        desc = normalize_desc(desc)\n",
    "        try:\n",
    "            code = int(code)\n",
    "        except Exception:\n",
    "            na_values.append(code)\n",
    "            continue\n",
    "        t = parseRange(desc)\n",
    "        if t is None:\n",
    "            print(name)\n",
    "            print(var['codebook'])\n",
    "            print(desc)\n",
    "            raise Exception(\"Unknown range\")\n",
    "            \n",
    "        if t[0] == 'na':\n",
    "            na_values.append(code)\n",
    "            continue\n",
    "        else:\n",
    "            codebook.append((code, desc))\n",
    "                \n",
    "        if t[0] == 'exact':\n",
    "            edge_tuples.append((to_numeric(t[1]), to_numeric(t[1])))\n",
    "        else:\n",
    "            all_exact = False\n",
    "            edge_tuples.append((to_numeric(t[1]), to_numeric(t[2])))\n",
    "\n",
    "    if all_exact:\n",
    "        edges = [t[1] for t in edge_tuples]\n",
    "        values = [int(code) for code, desc in codebook]\n",
    "        pairs = sorted(zip(edges, values))\n",
    "        values = [v for e, v in pairs]\n",
    "        edges = [e for e, v in pairs]\n",
    "        edges.append(edges[-1])\n",
    "        exact=True\n",
    "    else:\n",
    "        exact=False\n",
    "        for a, b in edge_tuples:\n",
    "            if a > b:\n",
    "                raise Exception('Descending ranges')\n",
    "        order = np.argsort([a for a, b in edge_tuples])\n",
    "        edge_tuples = np.array(edge_tuples)\n",
    "        edge_tuples = edge_tuples[order].astype('d')\n",
    "        for i in range(len(edge_tuples) - 1):\n",
    "            if edge_tuples[i][1] > edge_tuples[i + 1][0]:\n",
    "                raise Exception('Descending ranges')\n",
    "        inner_edges = np.maximum(edge_tuples[1:, 0], edge_tuples[:-1, 1])\n",
    "        edges = [edge_tuples[0][0]] + inner_edges.tolist() + [edge_tuples[-1][1]]\n",
    "        values = []\n",
    "        for i in order:\n",
    "            values.append(codebook[i][0])\n",
    "    return {\n",
    "        'name': var['name'],\n",
    "        'field': var['name'],\n",
    "        'type': 'Coded',\n",
    "        'exact': exact,\n",
    "        'description': var['short_description'],\n",
    "        'na_values': na_values,\n",
    "        'edges': edges,\n",
    "        'values': values\n",
    "    }\n",
    "    return None"
   ]
  },
  {
   "cell_type": "markdown",
   "metadata": {},
   "source": [
    "# Categorical"
   ]
  },
  {
   "cell_type": "code",
   "execution_count": 435,
   "metadata": {
    "collapsed": true
   },
   "outputs": [],
   "source": [
    "categoricalVariables = {\n",
    "    'PSF',\n",
    "    'SCH',\n",
    "    'SCHG',\n",
    "    'SCHL',\n",
    "    'VPS',\n",
    "    'NR',\n",
    "    'LNGI',\n",
    "    'WAOB',\n",
    "}"
   ]
  },
  {
   "cell_type": "code",
   "execution_count": 436,
   "metadata": {
    "collapsed": true
   },
   "outputs": [],
   "source": [
    "def parseCategorical(var):\n",
    "    name = var['name']\n",
    "    na_values = []\n",
    "    vals = []\n",
    "    labels = []\n",
    "    for code, desc in var['codebook']:\n",
    "        try:\n",
    "            code = int(code)\n",
    "        except Exception:\n",
    "            na_values.append(code.replace('b',' '))\n",
    "            continue\n",
    "        code = int(code)\n",
    "        vals.append(code)\n",
    "        labels.append(normalize_desc(desc))\n",
    "    return {\n",
    "        'name': var['name'],\n",
    "        'field': var['name'],\n",
    "        'type': 'Categorical',\n",
    "        'description': var['short_description'],\n",
    "        'na_values': na_values,\n",
    "        'labels': labels,\n",
    "        'values': vals,\n",
    "    }"
   ]
  },
  {
   "cell_type": "markdown",
   "metadata": {},
   "source": [
    "# Main"
   ]
  },
  {
   "cell_type": "code",
   "execution_count": 437,
   "metadata": {
    "collapsed": true
   },
   "outputs": [],
   "source": [
    "def getType(var):\n",
    "    name = var['name']\n",
    "    if name in specialVariables:\n",
    "        print('Skipping %s' % var['name'])\n",
    "        return 'special'\n",
    "    if 'allocation flag' in var['short_description'].lower():\n",
    "        return 'special'\n",
    "    if 'weight replicate' in var['short_description'].lower():\n",
    "        return 'special'\n",
    "    if name in continuousVariables:\n",
    "        return 'continuous'\n",
    "    if name in directContinuous:\n",
    "        return 'continuous'\n",
    "    if name in categoricalVariables:\n",
    "        return 'categorical'\n",
    "    \n",
    "    # Check for continuous ranges\n",
    "    for code, desc in var['codebook']:\n",
    "        match = re.match(rangePattern, code)\n",
    "        if match:\n",
    "            return 'continuous'\n",
    "        \n",
    "    # See if codebook is numerical\n",
    "    numeric_count = 0\n",
    "    nonnumeric_count = 0\n",
    "    for code, desc in var['codebook']:\n",
    "        desc = normalize_desc(desc)\n",
    "        if any(re.search(patt, desc) for patt in nonCodedPatterns):\n",
    "            continue\n",
    "        if re.match(numPattern, code):\n",
    "            if re.search(numPattern, desc):\n",
    "                numeric_count += 1\n",
    "            else:\n",
    "                nonnumeric_count += 1\n",
    "    total_count = nonnumeric_count + numeric_count\n",
    "    if total_count == 0 or float(numeric_count) / float(total_count) < 0.75:\n",
    "#         if numeric_count > 0:\n",
    "#             print(var['codebook'])\n",
    "        return 'categorical'\n",
    "    \n",
    "    for code, desc in var['codebook']:\n",
    "        if re.match(numPattern, code):\n",
    "            code = int(code)\n",
    "            if parseRange(desc) is None:\n",
    "                print(\"Unknown: %s,%d: %s\" % (name, code, desc))\n",
    "                return None\n",
    "    return 'coded'"
   ]
  },
  {
   "cell_type": "code",
   "execution_count": 438,
   "metadata": {
    "collapsed": false
   },
   "outputs": [],
   "source": [
    "def normalize(var):\n",
    "    typ = getType(var)\n",
    "    \n",
    "    if typ == 'special':\n",
    "        return None\n",
    "    elif typ == 'continuous':\n",
    "        return parseContinuous(var)\n",
    "    elif typ == 'categorical':\n",
    "        return parseCategorical(var)\n",
    "    elif typ == 'coded':\n",
    "        return parseCoded(var)\n",
    "    else:\n",
    "        raise Exception('bad type')\n",
    "        \n",
    "    return None"
   ]
  },
  {
   "cell_type": "code",
   "execution_count": 439,
   "metadata": {
    "collapsed": false
   },
   "outputs": [
    {
     "name": "stdout",
     "output_type": "stream",
     "text": [
      "Skipping RT\n",
      "Skipping SERIALNO\n",
      "Skipping SPORDER\n",
      "Skipping PWGTP\n",
      "Skipping RT\n",
      "Skipping SERIALNO\n",
      "Skipping WGTP\n",
      "Skipping BLD\n",
      "Skipping ELEP\n",
      "Skipping FULP\n",
      "Skipping GASP\n",
      "Skipping WATP\n"
     ]
    }
   ],
   "source": [
    "normalizedVariables = specialNormalized[:]\n",
    "for recordtype, cat in data['categories'].items():\n",
    "    for var in cat:\n",
    "        normalized = normalize(var)\n",
    "        if normalized:\n",
    "            normalizedVariables.append(normalized)"
   ]
  },
  {
   "cell_type": "code",
   "execution_count": 441,
   "metadata": {
    "collapsed": false
   },
   "outputs": [],
   "source": [
    "# for var in normalizedVariables:\n",
    "#     try:\n",
    "#         with open('normalized_variables.json', 'w') as f:\n",
    "#             json.dump(var, f)\n",
    "#     except Exception:\n",
    "#         print(var['name'])\n",
    "with open('normalized_variables.json', 'w') as f:\n",
    "    json.dump(normalizedVariables, f, indent=2, sort_keys=True)"
   ]
  },
  {
   "cell_type": "code",
   "execution_count": null,
   "metadata": {
    "collapsed": true
   },
   "outputs": [],
   "source": []
  }
 ],
 "metadata": {
  "kernelspec": {
   "display_name": "Python 3",
   "language": "python",
   "name": "python3"
  },
  "language_info": {
   "codemirror_mode": {
    "name": "ipython",
    "version": 3
   },
   "file_extension": ".py",
   "mimetype": "text/x-python",
   "name": "python",
   "nbconvert_exporter": "python",
   "pygments_lexer": "ipython3",
   "version": "3.5.1"
  }
 },
 "nbformat": 4,
 "nbformat_minor": 0
}
